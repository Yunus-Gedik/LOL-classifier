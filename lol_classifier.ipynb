{
  "nbformat": 4,
  "nbformat_minor": 0,
  "metadata": {
    "colab": {
      "name": "lol_classifier.ipynb",
      "provenance": [],
      "collapsed_sections": []
    },
    "kernelspec": {
      "name": "python3",
      "display_name": "Python 3"
    },
    "language_info": {
      "name": "python"
    }
  },
  "cells": [
    {
      "cell_type": "code",
      "metadata": {
        "id": "W9JuUOR-h3cm"
      },
      "source": [
        "import pandas as pd\n",
        "import numpy as np\n",
        "import sklearn\n",
        "from sklearn import linear_model\n",
        "from sklearn.linear_model import LogisticRegression\n",
        "from sklearn import metrics\n",
        "from sklearn.naive_bayes import BernoulliNB\n",
        "from sklearn.model_selection import cross_val_score\n",
        "from sklearn.tree import DecisionTreeClassifier\n",
        "from sklearn.neighbors import KNeighborsClassifier\n",
        "from sklearn import svm\n",
        "from sklearn.ensemble import RandomForestClassifier\n",
        "from sklearn.linear_model import SGDClassifier\n",
        "import matplotlib.pyplot as pyplot\n",
        "from sklearn import preprocessing\n",
        "from sklearn.preprocessing import MinMaxScaler\n",
        "from matplotlib import style\n",
        "from sklearn.decomposition import PCA\n",
        "from sklearn.feature_selection import SelectKBest\n",
        "from sklearn.feature_selection import f_classif"
      ],
      "execution_count": 376,
      "outputs": []
    },
    {
      "cell_type": "code",
      "metadata": {
        "id": "0fhGZ2aPid9w"
      },
      "source": [
        "data = pd.read_csv(\"high_diamond_ranked_10min.csv\", sep=\",\")\n",
        "\n",
        "# Drop game id, which is not related to game, so may damage our model.\n",
        "data = data.drop('gameId', axis=1)\n",
        "\n",
        "# Column that we gonna predict.\n",
        "predict = \"blueWins\"\n",
        "\n",
        "# Divide data into train and test splits\n",
        "X = data.drop([predict], 1)\n",
        "Y = data[predict]\n",
        "\n",
        "xt = X\n",
        "yt = Y"
      ],
      "execution_count": 377,
      "outputs": []
    },
    {
      "cell_type": "code",
      "metadata": {
        "id": "KaJi79mbsc8P"
      },
      "source": [
        "# x_train,x_test,y_train,y_test = sklearn.model_selection.train_test_split( X,Y, test_size=0.2 )\n",
        "X = xt\n",
        "Y = yt"
      ],
      "execution_count": 407,
      "outputs": []
    },
    {
      "cell_type": "code",
      "metadata": {
        "id": "DPy6LlgYijK8"
      },
      "source": [
        "# Normalization\n",
        "scaler = MinMaxScaler()\n",
        "X = pd.DataFrame(scaler.fit_transform(X), columns=X.columns, index=X.index)"
      ],
      "execution_count": 380,
      "outputs": []
    },
    {
      "cell_type": "code",
      "metadata": {
        "id": "qre_zFxMimaI"
      },
      "source": [
        "# Standardization\n",
        "preprocessing.scale(data)\n",
        "X = preprocessing.scale(X)"
      ],
      "execution_count": 408,
      "outputs": []
    },
    {
      "cell_type": "code",
      "metadata": {
        "id": "79xR-lsLqkTD"
      },
      "source": [
        "pca = PCA().fit(X)\n",
        "pyplot.plot(np.cumsum(pca.explained_variance_ratio_))\n",
        "pyplot.xlabel('number of components')\n",
        "pyplot.ylabel('cumulative explained variance')"
      ],
      "execution_count": null,
      "outputs": []
    },
    {
      "cell_type": "code",
      "metadata": {
        "id": "PryeQtm6m96V"
      },
      "source": [
        "# Perform PCA\n",
        "tempp = 0.99\n",
        "\n",
        "pca = PCA(n_components=tempp)\n",
        "\n",
        "principalComponents = pca.fit_transform(X)\n",
        "X = pd.DataFrame(data = principalComponents)\n",
        "\n",
        "print(X)"
      ],
      "execution_count": null,
      "outputs": []
    },
    {
      "cell_type": "code",
      "metadata": {
        "id": "DqUmA2TL_8FW"
      },
      "source": [
        "fs = SelectKBest(score_func=f_classif, k=4)\n",
        "# learn relationship from training data\n",
        "fs.fit(X, Y)\n",
        "# transform train input data\n",
        "X = fs.transform(X)\n",
        "for i in range(len(fs.scores_)):\n",
        "  print('Feature %d: %f' % (i, fs.scores_[i]))\n",
        "\n",
        "print(X.shape[1])"
      ],
      "execution_count": null,
      "outputs": []
    },
    {
      "cell_type": "code",
      "metadata": {
        "id": "26xVwzXHiuVS"
      },
      "source": [
        "logreg = LogisticRegression(max_iter = 1000)\n",
        "\n",
        "print( \"Logistic regression mean of cross validation AUC score: \", cross_val_score(logreg, X, Y, scoring='roc_auc', cv=10).mean())\n",
        "print()\n",
        "\n",
        "\n",
        "bnb = BernoulliNB(binarize=0.0)\n",
        "\n",
        "print( \"Bernoulli naive bayes mean of cross validation AUC score: \", cross_val_score(bnb, X, Y, scoring='roc_auc', cv=10).mean())\n",
        "print()\n",
        "\n",
        "\n",
        "clf = DecisionTreeClassifier(max_depth = 6)\n",
        "\n",
        "print( \"Decision tree mean of cross validation AUC score: \", cross_val_score(clf, X, Y, scoring='roc_auc', cv=10).mean())\n",
        "print()\n",
        "\n",
        "\n",
        "rforest = RandomForestClassifier(n_estimators=20)\n",
        "\n",
        "print( \"Random Forest mean of cross validation AUC score: \", cross_val_score(rforest, X, Y, scoring='roc_auc', cv=10).mean())\n",
        "print()\n",
        "\n",
        "\n",
        "neighbours = 125\n",
        "knn = KNeighborsClassifier(n_neighbors=neighbours)\n",
        "\n",
        "print( \"KNN with %d as k, mean of cross validation AUC score: %f\" %(neighbours, cross_val_score(knn, X, Y, scoring='roc_auc', cv=10).mean()))\n",
        "print()\n",
        "\n",
        "\n",
        "sgdc = SGDClassifier(max_iter=1000, tol=0.01)\n",
        "\n",
        "print( \"SGD mean of cross validation AUC score: \", cross_val_score(sgdc, X, Y, scoring='roc_auc', cv=10).mean())\n",
        "print()\n",
        "\n",
        "psvm = svm.SVC(kernel='poly')\n",
        "\n",
        "print( \"Polynomial SVM mean of cross validation AUC score: \", cross_val_score(psvm, X, Y, scoring='roc_auc', cv=10).mean())\n",
        "print()\n",
        "\n",
        "\n",
        "#lsvm = svm.SVC(kernel='linear')\n",
        "\n",
        "#print( \"Linear SVM mean of cross validation AUC score: \", cross_val_score(lsvm, X, Y, scoring='roc_auc', cv=10).mean())\n",
        "#print()\n"
      ],
      "execution_count": null,
      "outputs": []
    },
    {
      "cell_type": "code",
      "metadata": {
        "id": "uP1zTwk1E8Za"
      },
      "source": [
        "for neighbours in range(1,300):\n",
        "  knn = KNeighborsClassifier(n_neighbors=neighbours)\n",
        "  print( \"KNN with %d as k, mean of cross validation AUC score: %f\" %(neighbours, cross_val_score(knn, X, Y, scoring='roc_auc', cv=10).mean()))"
      ],
      "execution_count": null,
      "outputs": []
    },
    {
      "cell_type": "code",
      "metadata": {
        "id": "jiaqSWXQGiko"
      },
      "source": [
        "for dep in range(2,100):\n",
        "  rforest = RandomForestClassifier(max_depth=dep)\n",
        "  print( \"Random Forest mean of cross validation AUC score: \", cross_val_score(rforest, X, Y, scoring='roc_auc', cv=10).mean())"
      ],
      "execution_count": null,
      "outputs": []
    }
  ]
}